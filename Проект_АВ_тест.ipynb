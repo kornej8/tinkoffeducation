{
 "cells": [
  {
   "cell_type": "markdown",
   "id": "e01e5ec9",
   "metadata": {
    "id": "e01e5ec9"
   },
   "source": [
    "### `chat_id ` из Телеграма:"
   ]
  },
  {
   "cell_type": "code",
   "execution_count": 10,
   "id": "Of7L1OK6jEKT",
   "metadata": {
    "id": "Of7L1OK6jEKT"
   },
   "outputs": [],
   "source": [
    "# chat_id = 720721680"
   ]
  },
  {
   "cell_type": "markdown",
   "id": "1fb036f5",
   "metadata": {
    "id": "1fb036f5"
   },
   "source": [
    "------------------"
   ]
  },
  {
   "cell_type": "markdown",
   "id": "d8c6f14f",
   "metadata": {
    "id": "d8c6f14f"
   },
   "source": [
    "##  <ins>Задание 1.</ins>"
   ]
  },
  {
   "cell_type": "markdown",
   "id": "cMi1ZWvej6zB",
   "metadata": {
    "id": "cMi1ZWvej6zB"
   },
   "source": [
    "### 0. Запосить у бота в Телеграме условие командой `/get_project1_desc`."
   ]
  },
  {
   "cell_type": "markdown",
   "id": "96ac1922",
   "metadata": {
    "id": "96ac1922"
   },
   "source": [
    "# Шаблон для проекта по A/B - тестам."
   ]
  },
  {
   "cell_type": "markdown",
   "id": "0dd4c840",
   "metadata": {
    "id": "0dd4c840"
   },
   "source": [
    "### 1. Необходимо выбрать метрику и привести аргументацию."
   ]
  },
  {
   "cell_type": "code",
   "execution_count": 2,
   "id": "781b6fbd",
   "metadata": {},
   "outputs": [],
   "source": [
    "# По условию:\n",
    "# \"Мы много платим оператору из-за того,\n",
    "# что он сам по каждому заданию\n",
    "# звонит клиенту и ждёт ответа клиента.\n",
    "# Мы хотим попробовать снизить затраты на операторов,\n",
    "# внедрив систему,\n",
    "# которая будет сама звонить человеку\n",
    "# и в случае успеха перенаправлять задание оператору\"\n",
    "\n",
    "# В качестве метрики можно выбрать среднее значение NPV, поскольку оно сильно коррелирует с расходами.\n",
    "# Если нам удастатся уменьшить расходы на дозвон, то среднее значение NPV должно вырасти. \n",
    "# В этом случае можно внедрять систему с автоматическим дозвоном."
   ]
  },
  {
   "cell_type": "code",
   "execution_count": 7,
   "id": "vG7kmtMEjHOU",
   "metadata": {
    "id": "vG7kmtMEjHOU"
   },
   "outputs": [
    {
     "data": {
      "text/html": [
       "<div>\n",
       "<style scoped>\n",
       "    .dataframe tbody tr th:only-of-type {\n",
       "        vertical-align: middle;\n",
       "    }\n",
       "\n",
       "    .dataframe tbody tr th {\n",
       "        vertical-align: top;\n",
       "    }\n",
       "\n",
       "    .dataframe thead th {\n",
       "        text-align: right;\n",
       "    }\n",
       "</style>\n",
       "<table border=\"1\" class=\"dataframe\">\n",
       "  <thead>\n",
       "    <tr style=\"text-align: right;\">\n",
       "      <th></th>\n",
       "      <th>ID</th>\n",
       "      <th>Флаг дозвона</th>\n",
       "      <th>Флаг продажи</th>\n",
       "      <th>Расходы</th>\n",
       "      <th>PV</th>\n",
       "      <th>NPV</th>\n",
       "    </tr>\n",
       "  </thead>\n",
       "  <tbody>\n",
       "    <tr>\n",
       "      <th>count</th>\n",
       "      <td>72161.000000</td>\n",
       "      <td>72161.000000</td>\n",
       "      <td>72161.000000</td>\n",
       "      <td>72161.000000</td>\n",
       "      <td>72161.000000</td>\n",
       "      <td>72161.000000</td>\n",
       "    </tr>\n",
       "    <tr>\n",
       "      <th>mean</th>\n",
       "      <td>36080.000000</td>\n",
       "      <td>0.599881</td>\n",
       "      <td>0.302172</td>\n",
       "      <td>200.581547</td>\n",
       "      <td>482.041352</td>\n",
       "      <td>281.459805</td>\n",
       "    </tr>\n",
       "    <tr>\n",
       "      <th>std</th>\n",
       "      <td>20831.230725</td>\n",
       "      <td>0.489926</td>\n",
       "      <td>0.459202</td>\n",
       "      <td>363.748786</td>\n",
       "      <td>814.227243</td>\n",
       "      <td>677.664908</td>\n",
       "    </tr>\n",
       "    <tr>\n",
       "      <th>min</th>\n",
       "      <td>0.000000</td>\n",
       "      <td>0.000000</td>\n",
       "      <td>0.000000</td>\n",
       "      <td>0.000000</td>\n",
       "      <td>0.000000</td>\n",
       "      <td>-4406.000000</td>\n",
       "    </tr>\n",
       "    <tr>\n",
       "      <th>25%</th>\n",
       "      <td>18040.000000</td>\n",
       "      <td>0.000000</td>\n",
       "      <td>0.000000</td>\n",
       "      <td>21.000000</td>\n",
       "      <td>0.000000</td>\n",
       "      <td>-54.000000</td>\n",
       "    </tr>\n",
       "    <tr>\n",
       "      <th>50%</th>\n",
       "      <td>36080.000000</td>\n",
       "      <td>1.000000</td>\n",
       "      <td>0.000000</td>\n",
       "      <td>59.000000</td>\n",
       "      <td>0.000000</td>\n",
       "      <td>-18.000000</td>\n",
       "    </tr>\n",
       "    <tr>\n",
       "      <th>75%</th>\n",
       "      <td>54120.000000</td>\n",
       "      <td>1.000000</td>\n",
       "      <td>1.000000</td>\n",
       "      <td>182.000000</td>\n",
       "      <td>1258.000000</td>\n",
       "      <td>535.000000</td>\n",
       "    </tr>\n",
       "    <tr>\n",
       "      <th>max</th>\n",
       "      <td>72160.000000</td>\n",
       "      <td>1.000000</td>\n",
       "      <td>1.000000</td>\n",
       "      <td>6280.000000</td>\n",
       "      <td>41255.000000</td>\n",
       "      <td>41144.000000</td>\n",
       "    </tr>\n",
       "  </tbody>\n",
       "</table>\n",
       "</div>"
      ],
      "text/plain": [
       "                 ID  Флаг дозвона  Флаг продажи       Расходы            PV  \\\n",
       "count  72161.000000  72161.000000  72161.000000  72161.000000  72161.000000   \n",
       "mean   36080.000000      0.599881      0.302172    200.581547    482.041352   \n",
       "std    20831.230725      0.489926      0.459202    363.748786    814.227243   \n",
       "min        0.000000      0.000000      0.000000      0.000000      0.000000   \n",
       "25%    18040.000000      0.000000      0.000000     21.000000      0.000000   \n",
       "50%    36080.000000      1.000000      0.000000     59.000000      0.000000   \n",
       "75%    54120.000000      1.000000      1.000000    182.000000   1258.000000   \n",
       "max    72160.000000      1.000000      1.000000   6280.000000  41255.000000   \n",
       "\n",
       "                NPV  \n",
       "count  72161.000000  \n",
       "mean     281.459805  \n",
       "std      677.664908  \n",
       "min    -4406.000000  \n",
       "25%      -54.000000  \n",
       "50%      -18.000000  \n",
       "75%      535.000000  \n",
       "max    41144.000000  "
      ]
     },
     "execution_count": 7,
     "metadata": {},
     "output_type": "execute_result"
    }
   ],
   "source": [
    "import pandas as pd\n",
    "\n",
    "df = pd.read_csv('C:\\\\Users\\\\delux\\\\Desktop\\\\data\\\\hist_telesales.csv')\n",
    "\n",
    "df.describe()"
   ]
  },
  {
   "cell_type": "markdown",
   "id": "b644cd0a",
   "metadata": {
    "id": "b644cd0a"
   },
   "source": [
    "### 2. Альтернатива в критерии."
   ]
  },
  {
   "cell_type": "code",
   "execution_count": 1,
   "id": "d4d929ed",
   "metadata": {
    "id": "KFMpcB0mjJXN"
   },
   "outputs": [],
   "source": [
    "# Выдвигая гипотезу H0: p = p0, я говорю о том, что внедрение автоматической системы дозвона не повлияет на среднее NPV.\n",
    "# Альтернативная гипотеза H1: p > p0. Внедрение автоматической системы дозвона уменьшит расход на оператора, \n",
    "#     тем самым увеличивается среднее значение NPV."
   ]
  },
  {
   "cell_type": "markdown",
   "id": "727aefc4",
   "metadata": {
    "id": "727aefc4"
   },
   "source": [
    "### 3.1. Каков размер выборки? Привести аргументацию и написать как получилось то или иное число."
   ]
  },
  {
   "cell_type": "code",
   "execution_count": null,
   "id": "7ec02731",
   "metadata": {
    "id": "fYijOurfjLNp"
   },
   "outputs": [],
   "source": [
    "# По условию uplift = 5%, a = 0.05, b = 0.9\n",
    "# тогда MDE = 0.05 * среднее NPV"
   ]
  },
  {
   "cell_type": "code",
   "execution_count": 8,
   "id": "f664bc5a",
   "metadata": {},
   "outputs": [
    {
     "data": {
      "text/plain": [
       "14.07299025789554"
      ]
     },
     "execution_count": 8,
     "metadata": {},
     "output_type": "execute_result"
    }
   ],
   "source": [
    "MDE = 0.05 * df.NPV.mean()\n",
    "MDE"
   ]
  },
  {
   "cell_type": "code",
   "execution_count": 9,
   "id": "975d3a9d",
   "metadata": {},
   "outputs": [
    {
     "name": "stdout",
     "output_type": "stream",
     "text": [
      "1.6448536269514722 -1.2815515655446004\n"
     ]
    }
   ],
   "source": [
    "# квантили\n",
    "\n",
    "from scipy import stats\n",
    "\n",
    "\n",
    "a = stats.norm.ppf(1-0.05)\n",
    "b = stats.norm.ppf(1-0.9)\n",
    "print(a,b)"
   ]
  },
  {
   "cell_type": "code",
   "execution_count": 10,
   "id": "4b90f7aa",
   "metadata": {},
   "outputs": [
    {
     "data": {
      "text/plain": [
       "612.0"
      ]
     },
     "execution_count": 10,
     "metadata": {},
     "output_type": "execute_result"
    }
   ],
   "source": [
    "#Определяю размер выборки по формуле:\n",
    "\n",
    "N = (2 * df.NPV.var() * ((a + b) ** 2)) / (MDE ** 2)\n",
    "N.round()"
   ]
  },
  {
   "cell_type": "markdown",
   "id": "8df8ee73",
   "metadata": {
    "id": "8df8ee73"
   },
   "source": [
    "### 3.2. Необходимо запросить у бота в Телеграме выборку полученного размера командой `/get_project1_sample {размер выборки}` и вписать <ins>код выборки</ins>:"
   ]
  },
  {
   "cell_type": "code",
   "execution_count": null,
   "id": "9vCrM3wcjM0H",
   "metadata": {
    "id": "9vCrM3wcjM0H"
   },
   "outputs": [],
   "source": [
    "36012"
   ]
  },
  {
   "cell_type": "markdown",
   "id": "22e2d9b0",
   "metadata": {
    "id": "22e2d9b0"
   },
   "source": [
    "### 4. Принятие решения. Расписать подробно с аргументами."
   ]
  },
  {
   "cell_type": "code",
   "execution_count": 29,
   "id": "7833fe87",
   "metadata": {},
   "outputs": [],
   "source": [
    "x = pd.read_csv('C:\\\\Users\\\\delux\\\\Desktop\\\\data\\\\Контроль.csv')\n",
    "x = x.NPV\n",
    "y = pd.read_csv('C:\\\\Users\\\\delux\\\\Desktop\\\\data\\\\Тест.csv')\n",
    "y = y.NPV"
   ]
  },
  {
   "cell_type": "code",
   "execution_count": 12,
   "id": "d9213fcf",
   "metadata": {},
   "outputs": [
    {
     "data": {
      "text/plain": [
       "Ttest_indResult(statistic=-1.6599254732357038, pvalue=0.048600060300617164)"
      ]
     },
     "execution_count": 12,
     "metadata": {},
     "output_type": "execute_result"
    }
   ],
   "source": [
    "from scipy.stats import ttest_ind \n",
    "p = ttest_ind(x, y, equal_var=False, alternative='less')\n",
    "p"
   ]
  },
  {
   "cell_type": "code",
   "execution_count": 3,
   "id": "82533e3f",
   "metadata": {},
   "outputs": [],
   "source": [
    "# Вывод:\n",
    "#     pvalue = 0.0486 меньше, чем a = 0.05. Это означает, что мы отклоняем H0 в пользу H1 и считаем, что мы\n",
    "# получили статзначимый аплифт. Таким образом внедрение автоматической системы дозвона позволит увеличить среднее NPV."
   ]
  },
  {
   "cell_type": "markdown",
   "id": "f9e15111",
   "metadata": {
    "id": "f9e15111"
   },
   "source": [
    "------------------"
   ]
  },
  {
   "cell_type": "markdown",
   "id": "7ea196b1",
   "metadata": {
    "id": "7ea196b1"
   },
   "source": [
    "##  <ins>Задание 2.</ins>"
   ]
  },
  {
   "cell_type": "markdown",
   "id": "M0mI4jfTkCk6",
   "metadata": {
    "id": "M0mI4jfTkCk6"
   },
   "source": [
    "### 0. Запосить у бота в Телеграме условие командой `/get_project2_desc`."
   ]
  },
  {
   "cell_type": "markdown",
   "id": "e4691844",
   "metadata": {
    "id": "e4691844"
   },
   "source": [
    "### 1. Необходимо выбрать метрику и привести аргументацию."
   ]
  },
  {
   "cell_type": "code",
   "execution_count": 4,
   "id": "ec25c78d",
   "metadata": {},
   "outputs": [],
   "source": [
    "# В соотсветствии с заданием:\n",
    "#     \"Контекст\n",
    "# ЦБ смягчило правило,\n",
    "# ограничивающее варианты продажи услуги.\n",
    "# Мы хотим попробовать\n",
    "# более агрессивную продажу услуги,\n",
    "# но боимся,\n",
    "# что это повлияет на экономику основного продукта (КК)\n",
    "# из-за негатива клиентов.\n",
    "\n",
    "# Тест\n",
    "# Мы проводим тест,\n",
    "# в рамках которого мы разбиваем весь поток\n",
    "# на две части рановероятно,\n",
    "# где одной части (контролю) \n",
    "# мы будем предлагать услугу текущим способом,\n",
    "# а второй части (тесту) \n",
    "# - новым более агрессивным способом.\n",
    "# Целью этого теста \n",
    "# является увеличение доходности КК + услуги.\"\n",
    "\n",
    "\n",
    "\n",
    "# Целевой метрикой будет являться флаг утилизации счета. Потому что значения PV КК и PV услуги напрямую зависят от Флага утилизации счета."
   ]
  },
  {
   "cell_type": "code",
   "execution_count": 13,
   "id": "Q3Zae2tSjQFW",
   "metadata": {
    "id": "Q3Zae2tSjQFW"
   },
   "outputs": [
    {
     "data": {
      "text/html": [
       "<div>\n",
       "<style scoped>\n",
       "    .dataframe tbody tr th:only-of-type {\n",
       "        vertical-align: middle;\n",
       "    }\n",
       "\n",
       "    .dataframe tbody tr th {\n",
       "        vertical-align: top;\n",
       "    }\n",
       "\n",
       "    .dataframe thead th {\n",
       "        text-align: right;\n",
       "    }\n",
       "</style>\n",
       "<table border=\"1\" class=\"dataframe\">\n",
       "  <thead>\n",
       "    <tr style=\"text-align: right;\">\n",
       "      <th></th>\n",
       "      <th>ID</th>\n",
       "      <th>Возраст</th>\n",
       "      <th>Доход клиента</th>\n",
       "      <th>Вероятность банкротства</th>\n",
       "      <th>Флаг утилизации счёта</th>\n",
       "      <th>Расходы</th>\n",
       "      <th>PV КК</th>\n",
       "      <th>PV услуги</th>\n",
       "      <th>NPV</th>\n",
       "    </tr>\n",
       "  </thead>\n",
       "  <tbody>\n",
       "    <tr>\n",
       "      <th>count</th>\n",
       "      <td>123255.000000</td>\n",
       "      <td>123255.000000</td>\n",
       "      <td>1.232550e+05</td>\n",
       "      <td>1.232550e+05</td>\n",
       "      <td>123255.000000</td>\n",
       "      <td>123255.000000</td>\n",
       "      <td>1.232550e+05</td>\n",
       "      <td>123255.000000</td>\n",
       "      <td>1.232550e+05</td>\n",
       "    </tr>\n",
       "    <tr>\n",
       "      <th>mean</th>\n",
       "      <td>61627.000000</td>\n",
       "      <td>39.673522</td>\n",
       "      <td>3.009385e+04</td>\n",
       "      <td>1.254254e-01</td>\n",
       "      <td>0.741544</td>\n",
       "      <td>421.941942</td>\n",
       "      <td>7.496049e+03</td>\n",
       "      <td>1486.105253</td>\n",
       "      <td>8.560212e+03</td>\n",
       "    </tr>\n",
       "    <tr>\n",
       "      <th>std</th>\n",
       "      <td>35580.798052</td>\n",
       "      <td>16.449416</td>\n",
       "      <td>1.748776e+04</td>\n",
       "      <td>1.105042e-01</td>\n",
       "      <td>0.437788</td>\n",
       "      <td>486.166550</td>\n",
       "      <td>2.158962e+04</td>\n",
       "      <td>1357.035726</td>\n",
       "      <td>2.175863e+04</td>\n",
       "    </tr>\n",
       "    <tr>\n",
       "      <th>min</th>\n",
       "      <td>0.000000</td>\n",
       "      <td>18.000000</td>\n",
       "      <td>2.000019e+04</td>\n",
       "      <td>5.004337e-08</td>\n",
       "      <td>0.000000</td>\n",
       "      <td>0.000000</td>\n",
       "      <td>0.000000e+00</td>\n",
       "      <td>0.000000</td>\n",
       "      <td>-5.100000e+02</td>\n",
       "    </tr>\n",
       "    <tr>\n",
       "      <th>25%</th>\n",
       "      <td>30813.500000</td>\n",
       "      <td>25.000000</td>\n",
       "      <td>2.201773e+04</td>\n",
       "      <td>4.053515e-02</td>\n",
       "      <td>0.000000</td>\n",
       "      <td>74.000000</td>\n",
       "      <td>0.000000e+00</td>\n",
       "      <td>0.000000</td>\n",
       "      <td>-1.000000e+00</td>\n",
       "    </tr>\n",
       "    <tr>\n",
       "      <th>50%</th>\n",
       "      <td>61627.000000</td>\n",
       "      <td>36.000000</td>\n",
       "      <td>2.523474e+04</td>\n",
       "      <td>9.475862e-02</td>\n",
       "      <td>1.000000</td>\n",
       "      <td>252.000000</td>\n",
       "      <td>6.316000e+03</td>\n",
       "      <td>1518.000000</td>\n",
       "      <td>7.755000e+03</td>\n",
       "    </tr>\n",
       "    <tr>\n",
       "      <th>75%</th>\n",
       "      <td>92440.500000</td>\n",
       "      <td>52.000000</td>\n",
       "      <td>3.183823e+04</td>\n",
       "      <td>1.801795e-01</td>\n",
       "      <td>1.000000</td>\n",
       "      <td>600.000000</td>\n",
       "      <td>8.807000e+03</td>\n",
       "      <td>1916.000000</td>\n",
       "      <td>1.044800e+04</td>\n",
       "    </tr>\n",
       "    <tr>\n",
       "      <th>max</th>\n",
       "      <td>123254.000000</td>\n",
       "      <td>75.000000</td>\n",
       "      <td>1.187963e+06</td>\n",
       "      <td>8.601029e-01</td>\n",
       "      <td>1.000000</td>\n",
       "      <td>5178.000000</td>\n",
       "      <td>5.073883e+06</td>\n",
       "      <td>75058.000000</td>\n",
       "      <td>5.075041e+06</td>\n",
       "    </tr>\n",
       "  </tbody>\n",
       "</table>\n",
       "</div>"
      ],
      "text/plain": [
       "                  ID        Возраст  Доход клиента  Вероятность банкротства  \\\n",
       "count  123255.000000  123255.000000   1.232550e+05             1.232550e+05   \n",
       "mean    61627.000000      39.673522   3.009385e+04             1.254254e-01   \n",
       "std     35580.798052      16.449416   1.748776e+04             1.105042e-01   \n",
       "min         0.000000      18.000000   2.000019e+04             5.004337e-08   \n",
       "25%     30813.500000      25.000000   2.201773e+04             4.053515e-02   \n",
       "50%     61627.000000      36.000000   2.523474e+04             9.475862e-02   \n",
       "75%     92440.500000      52.000000   3.183823e+04             1.801795e-01   \n",
       "max    123254.000000      75.000000   1.187963e+06             8.601029e-01   \n",
       "\n",
       "       Флаг утилизации счёта        Расходы         PV КК      PV услуги  \\\n",
       "count          123255.000000  123255.000000  1.232550e+05  123255.000000   \n",
       "mean                0.741544     421.941942  7.496049e+03    1486.105253   \n",
       "std                 0.437788     486.166550  2.158962e+04    1357.035726   \n",
       "min                 0.000000       0.000000  0.000000e+00       0.000000   \n",
       "25%                 0.000000      74.000000  0.000000e+00       0.000000   \n",
       "50%                 1.000000     252.000000  6.316000e+03    1518.000000   \n",
       "75%                 1.000000     600.000000  8.807000e+03    1916.000000   \n",
       "max                 1.000000    5178.000000  5.073883e+06   75058.000000   \n",
       "\n",
       "                NPV  \n",
       "count  1.232550e+05  \n",
       "mean   8.560212e+03  \n",
       "std    2.175863e+04  \n",
       "min   -5.100000e+02  \n",
       "25%   -1.000000e+00  \n",
       "50%    7.755000e+03  \n",
       "75%    1.044800e+04  \n",
       "max    5.075041e+06  "
      ]
     },
     "execution_count": 13,
     "metadata": {},
     "output_type": "execute_result"
    }
   ],
   "source": [
    "import pandas as pd\n",
    "\n",
    "df_1 = pd.read_csv('C:\\\\Users\\\\delux\\\\Desktop\\\\data\\\\hist_credit_card.csv')\n",
    "\n",
    "df_1.describe()"
   ]
  },
  {
   "cell_type": "markdown",
   "id": "e36b594c",
   "metadata": {
    "id": "e36b594c"
   },
   "source": [
    "### 2. Альтернатива в критерии."
   ]
  },
  {
   "cell_type": "code",
   "execution_count": 5,
   "id": "pBmniztEjRQP",
   "metadata": {
    "id": "pBmniztEjRQP"
   },
   "outputs": [],
   "source": [
    "# Выдвигая гипотезу H0: p = p0, я говорю о том, что в результате внедрения более агрессивной стратегии продажи продукта, \n",
    "#     количество утилизированных счетов не изменится.\n",
    "# Альтернативная гипотеза H1: p <> p0. Более агрессивная стратегия продажи продукта, \n",
    "#     повлияет на количество утилизированных счетов, но не известно в какую сторону. \n",
    "#     (Двухсторонняя альтернатива)"
   ]
  },
  {
   "cell_type": "markdown",
   "id": "692b97f3",
   "metadata": {
    "id": "692b97f3"
   },
   "source": [
    "### 3. Нужно выбрать параметр(-ы), влияющий(-ие) на целевую метрику. Привести аргументацию."
   ]
  },
  {
   "cell_type": "code",
   "execution_count": 14,
   "id": "4bYv6W9ljUEg",
   "metadata": {
    "id": "4bYv6W9ljUEg"
   },
   "outputs": [
    {
     "data": {
      "text/plain": [
       "<AxesSubplot:>"
      ]
     },
     "execution_count": 14,
     "metadata": {},
     "output_type": "execute_result"
    },
    {
     "data": {
      "image/png": "[encoded data removed]",
      "text/plain": [
       "<Figure size 1500x1000 with 2 Axes>"
      ]
     },
     "metadata": {},
     "output_type": "display_data"
    }
   ],
   "source": [
    "import seaborn as sns\n",
    "import matplotlib.pyplot as plt\n",
    "plt.figure(figsize=(15,10))\n",
    "sns.heatmap(df_1.corr(method='pearson', min_periods=1),annot=True)"
   ]
  },
  {
   "cell_type": "code",
   "execution_count": 6,
   "id": "1adce4c0",
   "metadata": {},
   "outputs": [],
   "source": [
    "# Как видно по таблице коррреляции признаков, параметр Флаг утилизации счета коррелирует с вероятностью банкроства."
   ]
  },
  {
   "cell_type": "markdown",
   "id": "5661bd5f",
   "metadata": {
    "id": "9b40ecbb"
   },
   "source": [
    "### 4.1. Каков размер выборки? Привести аргументацию и написать как получилось то или иное число."
   ]
  },
  {
   "cell_type": "code",
   "execution_count": 16,
   "id": "tk7WBLvmjSnM",
   "metadata": {
    "id": "tk7WBLvmjSnM"
   },
   "outputs": [
    {
     "data": {
      "text/plain": [
       "661.0"
      ]
     },
     "execution_count": 16,
     "metadata": {},
     "output_type": "execute_result"
    }
   ],
   "source": [
    "p = df_1['Флаг утилизации счёта'].mean()\n",
    "MDE = 0.03 * df_1['Флаг утилизации счёта'].mean()\n",
    "a_1 = stats.norm.ppf(1-0.05/2)\n",
    "b_1 = stats.norm.ppf(1-0.85)\n",
    "\n",
    "\n",
    "N = (2 * p * (1 - p) * (a_1 + b_1) ** 2 ) / ( MDE ** 2 )\n",
    "N.round()"
   ]
  },
  {
   "cell_type": "markdown",
   "id": "b13ea8ee",
   "metadata": {
    "id": "b13ea8ee"
   },
   "source": [
    "### 4.2. Необходимо запросить у бота в Телеграме выборку полученного размера командой `/get_project2_sample {размер выборки}` и вписать <ins>код выборки</ins>:"
   ]
  },
  {
   "cell_type": "code",
   "execution_count": null,
   "id": "F5c-oqIBjVJS",
   "metadata": {
    "id": "F5c-oqIBjVJS"
   },
   "outputs": [],
   "source": [
    "26893"
   ]
  },
  {
   "cell_type": "markdown",
   "id": "f6945c8f",
   "metadata": {
    "id": "f6945c8f"
   },
   "source": [
    "### 5. Проверка на однородность, применение критерия. Принятие решения. Расписать подробно с аргументами."
   ]
  },
  {
   "cell_type": "code",
   "execution_count": 63,
   "id": "a09e9abe",
   "metadata": {},
   "outputs": [],
   "source": [
    "a_v = pd.read_csv('C:\\\\Users\\\\delux\\\\Desktop\\\\data\\\\Контроль1.csv')\n",
    "a_v = a_v['Вероятность банкротства']\n",
    "b_v = pd.read_csv('C:\\\\Users\\\\delux\\\\Desktop\\\\data\\\\Тест1.csv')\n",
    "b_v = b_v['Вероятность банкротства']\n"
   ]
  },
  {
   "cell_type": "code",
   "execution_count": 66,
   "id": "LVlEnA4DjWp5",
   "metadata": {
    "id": "LVlEnA4DjWp5"
   },
   "outputs": [
    {
     "data": {
      "text/plain": [
       "KstestResult(statistic=0.048411497730711045, pvalue=0.4210398921613382)"
      ]
     },
     "execution_count": 66,
     "metadata": {},
     "output_type": "execute_result"
    }
   ],
   "source": [
    "from scipy.stats import ks_2samp\n",
    "# Проверка на однородность:\n",
    "\n",
    "p = ks_2samp(a_v,b_v)\n",
    "p"
   ]
  },
  {
   "cell_type": "code",
   "execution_count": 8,
   "id": "fb7a0c5d",
   "metadata": {},
   "outputs": [],
   "source": [
    "# Выборки однородны. (pvalue > 0.05) "
   ]
  },
  {
   "cell_type": "code",
   "execution_count": 60,
   "id": "3ba4f8a0",
   "metadata": {},
   "outputs": [],
   "source": [
    "a_c = pd.read_csv('C:\\\\Users\\\\delux\\\\Desktop\\\\data\\\\Контроль1.csv')\n",
    "a_c = a_c['Флаг утилизации счёта']\n",
    "b_t = pd.read_csv('C:\\\\Users\\\\delux\\\\Desktop\\\\data\\\\Тест1.csv')\n",
    "b_t = b_t['Флаг утилизации счёта']"
   ]
  },
  {
   "cell_type": "code",
   "execution_count": 61,
   "id": "4caba19b",
   "metadata": {},
   "outputs": [
    {
     "data": {
      "text/plain": [
       "Ttest_indResult(statistic=0.6965289692300446, pvalue=0.4862203128357231)"
      ]
     },
     "execution_count": 61,
     "metadata": {},
     "output_type": "execute_result"
    }
   ],
   "source": [
    "from scipy.stats import ttest_ind \n",
    "p = ttest_ind(a_c, b_t, equal_var=False, alternative='two-sided')\n",
    "p"
   ]
  },
  {
   "cell_type": "code",
   "execution_count": 9,
   "id": "f2542095",
   "metadata": {},
   "outputs": [],
   "source": [
    "# Вывод:\n",
    "#     pvalue = 0.486 больше, чем a = 0.05. Это означает, что у нас нет достаточных оснований отклонить H0.\n",
    "#     Таким образом можно говорить о том, что\n",
    "#     в результате внедрения более агрессивной стратегии продажи продукта, количество утилизированных счетов не изменится."
   ]
  }
 ],
 "metadata": {
  "colab": {
   "provenance": []
  },
  "kernelspec": {
   "display_name": "Python 3 (ipykernel)",
   "language": "python",
   "name": "python3"
  },
  "language_info": {
   "codemirror_mode": {
    "name": "ipython",
    "version": 3
   },
   "file_extension": ".py",
   "mimetype": "text/x-python",
   "name": "python",
   "nbconvert_exporter": "python",
   "pygments_lexer": "ipython3",
   "version": "3.9.13"
  }
 },
 "nbformat": 4,
 "nbformat_minor": 5
}
